{
 "cells": [
  {
   "cell_type": "markdown",
   "metadata": {},
   "source": [
    "# Feature Engineering & buiding a Pipeline to predict Employee Churn #"
   ]
  },
  {
   "cell_type": "markdown",
   "metadata": {},
   "source": [
    "1. Formulate the Prediction Question:\n",
    "\n",
    "Prediction Question:\n",
    "\n",
    "\"How can we develop a data preprocessing pipeline to build a predictive model that determines the likelihood of an employee leaving the company based on various HR metrics?\"\n",
    "\n",
    "This question underscores the importance of creating a comprehensive data preprocessing pipeline as a crucial step in developing an effective predictive model\n",
    "\n",
    "2. The HR Analytics dataset is downloaded from the Kaggle repository. This dataset includes 14,999 instances with 10  attributes."
   ]
  },
  {
   "cell_type": "markdown",
   "metadata": {},
   "source": [
    "3. Dataset Description and Variable Identification:\n",
    "The dataset contains the following variables:\n",
    "\n",
    "Independent Variables:\n",
    "satisfaction_level (Independent, Interval): The level of satisfaction of each employee, on a scale from 0 to 1.\n",
    "last_evaluation (Independent, Interval): Last evaluation score, on a scale from 0 to 1.\n",
    "number_project (Independent, Interval): Number of projects assigned to the employee.\n",
    "average_monthly_hours (Independent, Interval): Average number of hours worked per month.\n",
    "time_spend_company (Independent, Interval): Number of years the employee has spent at the company.\n",
    "Work_accident (Independent, Nominal): Indicates if the employee had a work accident (1 for yes, 0 for no).\n",
    "promotion_last_5years (Independent, Nominal): Indicates if the employee was promoted in the last five years (1 for yes, 0 for no).\n",
    "Department (Independent, Nominal): The department in which the employee works.\n",
    "salary (Independent, Ordinal): The level of salary (low, medium, high).\n",
    "\n",
    "Dependent Variable:\n",
    "left (Dependent, Nominal): Indicates if the employee left the company (1 for yes, 0 for no).\n",
    "\n",
    "Data Preprocessing\n",
    "Handling Missing Values: The dataset has no missing values.\n",
    "Encoding Categorical Variables: One-hot encoding is used for 'Department', and ordinal encoding for 'salary'.\n",
    "Scaling Numerical Variables: StandardScaler is applied to scale numerical variables.\n",
    "Model Building\n",
    "Two models were used for prediction: RandomForestRegressor and LogisticRegression.\n",
    "Validating the model using the cross validation and accuracy score and for logistic regression roc-auc curve.\n"
   ]
  },
  {
   "cell_type": "markdown",
   "metadata": {},
   "source": [
    "## 4.Import Libraries and Load Dataset ##"
   ]
  },
  {
   "cell_type": "code",
   "execution_count": 1,
   "metadata": {},
   "outputs": [
    {
     "name": "stdout",
     "output_type": "stream",
     "text": [
      "   satisfaction_level  last_evaluation  number_project  average_montly_hours  \\\n",
      "0                0.38             0.53               2                   157   \n",
      "1                0.80             0.86               5                   262   \n",
      "2                0.11             0.88               7                   272   \n",
      "3                0.72             0.87               5                   223   \n",
      "4                0.37             0.52               2                   159   \n",
      "\n",
      "   time_spend_company  Work_accident  left  promotion_last_5years Department  \\\n",
      "0                   3              0     1                      0      sales   \n",
      "1                   6              0     1                      0      sales   \n",
      "2                   4              0     1                      0      sales   \n",
      "3                   5              0     1                      0      sales   \n",
      "4                   3              0     1                      0      sales   \n",
      "\n",
      "   salary  \n",
      "0     low  \n",
      "1  medium  \n",
      "2  medium  \n",
      "3     low  \n",
      "4     low  \n"
     ]
    }
   ],
   "source": [
    "# Importing necessary libraries for data analysis and machine learning\n",
    "from sklearn.model_selection import train_test_split\n",
    "from sklearn.preprocessing import StandardScaler, OneHotEncoder\n",
    "from sklearn.compose import ColumnTransformer\n",
    "from sklearn.pipeline import Pipeline\n",
    "from sklearn.impute import SimpleImputer\n",
    "from sklearn.ensemble import RandomForestRegressor\n",
    "from sklearn.metrics import mean_squared_error, r2_score\n",
    "from sklearn.model_selection import cross_val_score\n",
    "import numpy as np\n",
    "import pandas as pd\n",
    "df = pd.read_csv ('HR_comma_sep.csv')\n",
    "\n",
    "print(df.head())\n",
    "\n",
    "\n"
   ]
  },
  {
   "cell_type": "code",
   "execution_count": 2,
   "metadata": {},
   "outputs": [
    {
     "name": "stdout",
     "output_type": "stream",
     "text": [
      "<class 'pandas.core.frame.DataFrame'>\n",
      "RangeIndex: 14999 entries, 0 to 14998\n",
      "Data columns (total 10 columns):\n",
      " #   Column                 Non-Null Count  Dtype  \n",
      "---  ------                 --------------  -----  \n",
      " 0   satisfaction_level     14999 non-null  float64\n",
      " 1   last_evaluation        14999 non-null  float64\n",
      " 2   number_project         14999 non-null  int64  \n",
      " 3   average_montly_hours   14999 non-null  int64  \n",
      " 4   time_spend_company     14999 non-null  int64  \n",
      " 5   Work_accident          14999 non-null  int64  \n",
      " 6   left                   14999 non-null  int64  \n",
      " 7   promotion_last_5years  14999 non-null  int64  \n",
      " 8   Department             14999 non-null  object \n",
      " 9   salary                 14999 non-null  object \n",
      "dtypes: float64(2), int64(6), object(2)\n",
      "memory usage: 1.1+ MB\n"
     ]
    }
   ],
   "source": [
    "df.info()\n"
   ]
  },
  {
   "cell_type": "code",
   "execution_count": 3,
   "metadata": {},
   "outputs": [
    {
     "data": {
      "text/plain": [
       "(14999, 10)"
      ]
     },
     "execution_count": 3,
     "metadata": {},
     "output_type": "execute_result"
    }
   ],
   "source": [
    "df.shape"
   ]
  },
  {
   "cell_type": "code",
   "execution_count": 4,
   "metadata": {},
   "outputs": [
    {
     "data": {
      "text/plain": [
       "satisfaction_level       0\n",
       "last_evaluation          0\n",
       "number_project           0\n",
       "average_montly_hours     0\n",
       "time_spend_company       0\n",
       "Work_accident            0\n",
       "left                     0\n",
       "promotion_last_5years    0\n",
       "Department               0\n",
       "salary                   0\n",
       "dtype: int64"
      ]
     },
     "execution_count": 4,
     "metadata": {},
     "output_type": "execute_result"
    }
   ],
   "source": [
    "# Check for missing values\n",
    "missing_values = df.isnull().sum()\n",
    "missing_values"
   ]
  },
  {
   "cell_type": "markdown",
   "metadata": {},
   "source": [
    "## 5.Feature Engineering ##\n",
    "We will apply various feature-engineering techniques, such as  categorical variable encoding, handling outliers, discretization, and variable transformation, using the feature-engine transformers available in the scikit-learn library."
   ]
  },
  {
   "cell_type": "markdown",
   "metadata": {},
   "source": [
    "Categorical Variable Encoding\n",
    "Since the dataset contains nominal categorical variables (Department and salary) and the dependent variable is binary, we need to encode these variables. For Department, we'll use one-hot encoding, and for salary, which is an ordinal variable, we'll use ordinal encoding.\n",
    "\n",
    "Handling Outliers\n",
    "Outlier handling might be necessary for variables like average_monthly_hours and satisfaction_level. However, without further domain knowledge or specific instructions, we should be cautious about altering these values as they might represent valid, albeit extreme, cases.\n",
    "\n",
    "Discretization and Variable Transformation\n",
    "Discretization is not particularly applicable here as most of our independent variables are already in appropriate formats for regression analysis. Variable transformation will be applied to scale the data, especially for numerical variables like average_monthly_hours, satisfaction_level, and others, using standard scaling.\n",
    "\n",
    "Data imputation\n",
    "Imputation is not applicable here, since we don't have a missing values."
   ]
  },
  {
   "cell_type": "code",
   "execution_count": 5,
   "metadata": {},
   "outputs": [],
   "source": [
    "# Encoding categorical variables and scaling numerical variables\n",
    "categorical_features = ['Department', 'salary']\n",
    "numerical_features = ['satisfaction_level', 'last_evaluation', 'number_project', \n",
    "                      'average_montly_hours', 'time_spend_company', 'Work_accident', \n",
    "                      'promotion_last_5years']"
   ]
  },
  {
   "cell_type": "markdown",
   "metadata": {},
   "source": [
    "Creating Pipeline\n",
    "A pipeline will be created that includes:\n",
    "\n",
    "Encoding categorical variables.\n",
    "Scaling numerical variables.\n",
    "A regression model, such as a RandomForestRegressor."
   ]
  },
  {
   "cell_type": "code",
   "execution_count": 6,
   "metadata": {},
   "outputs": [],
   "source": [
    "# Creating transformers for the pipeline\n",
    "categorical_transformer = OneHotEncoder(drop='first')\n",
    "numerical_transformer = StandardScaler()"
   ]
  },
  {
   "cell_type": "code",
   "execution_count": 7,
   "metadata": {},
   "outputs": [],
   "source": [
    "# Column transformer to apply transformations to the appropriate columns\n",
    "preprocessor = ColumnTransformer(\n",
    "    transformers=[\n",
    "        ('num', numerical_transformer, numerical_features),\n",
    "        ('cat', categorical_transformer, categorical_features)])"
   ]
  },
  {
   "cell_type": "markdown",
   "metadata": {},
   "source": [
    "## 6. Splitting data ##"
   ]
  },
  {
   "cell_type": "code",
   "execution_count": 8,
   "metadata": {},
   "outputs": [],
   "source": [
    "# Splitting the dataset into training and testing sets\n",
    "X = df.drop('left', axis=1)\n",
    "y = df['left']\n",
    "X_train, X_test, y_train, y_test = train_test_split(X, y, test_size=0.2, random_state=42)"
   ]
  },
  {
   "cell_type": "markdown",
   "metadata": {},
   "source": [
    "## 7&8. Creating the pipeline ##"
   ]
  },
  {
   "cell_type": "code",
   "execution_count": 9,
   "metadata": {},
   "outputs": [],
   "source": [
    "#Creating the pipeline\n",
    "model = RandomForestRegressor(random_state=42)\n",
    "pipeline = Pipeline(steps=[('preprocessor', preprocessor),\n",
    "                           ('model', model)])"
   ]
  },
  {
   "cell_type": "markdown",
   "metadata": {},
   "source": [
    "## 9.Fitting the model ##"
   ]
  },
  {
   "cell_type": "code",
   "execution_count": 24,
   "metadata": {},
   "outputs": [
    {
     "data": {
      "text/html": [
       "<style>#sk-container-id-3 {color: black;}#sk-container-id-3 pre{padding: 0;}#sk-container-id-3 div.sk-toggleable {background-color: white;}#sk-container-id-3 label.sk-toggleable__label {cursor: pointer;display: block;width: 100%;margin-bottom: 0;padding: 0.3em;box-sizing: border-box;text-align: center;}#sk-container-id-3 label.sk-toggleable__label-arrow:before {content: \"▸\";float: left;margin-right: 0.25em;color: #696969;}#sk-container-id-3 label.sk-toggleable__label-arrow:hover:before {color: black;}#sk-container-id-3 div.sk-estimator:hover label.sk-toggleable__label-arrow:before {color: black;}#sk-container-id-3 div.sk-toggleable__content {max-height: 0;max-width: 0;overflow: hidden;text-align: left;background-color: #f0f8ff;}#sk-container-id-3 div.sk-toggleable__content pre {margin: 0.2em;color: black;border-radius: 0.25em;background-color: #f0f8ff;}#sk-container-id-3 input.sk-toggleable__control:checked~div.sk-toggleable__content {max-height: 200px;max-width: 100%;overflow: auto;}#sk-container-id-3 input.sk-toggleable__control:checked~label.sk-toggleable__label-arrow:before {content: \"▾\";}#sk-container-id-3 div.sk-estimator input.sk-toggleable__control:checked~label.sk-toggleable__label {background-color: #d4ebff;}#sk-container-id-3 div.sk-label input.sk-toggleable__control:checked~label.sk-toggleable__label {background-color: #d4ebff;}#sk-container-id-3 input.sk-hidden--visually {border: 0;clip: rect(1px 1px 1px 1px);clip: rect(1px, 1px, 1px, 1px);height: 1px;margin: -1px;overflow: hidden;padding: 0;position: absolute;width: 1px;}#sk-container-id-3 div.sk-estimator {font-family: monospace;background-color: #f0f8ff;border: 1px dotted black;border-radius: 0.25em;box-sizing: border-box;margin-bottom: 0.5em;}#sk-container-id-3 div.sk-estimator:hover {background-color: #d4ebff;}#sk-container-id-3 div.sk-parallel-item::after {content: \"\";width: 100%;border-bottom: 1px solid gray;flex-grow: 1;}#sk-container-id-3 div.sk-label:hover label.sk-toggleable__label {background-color: #d4ebff;}#sk-container-id-3 div.sk-serial::before {content: \"\";position: absolute;border-left: 1px solid gray;box-sizing: border-box;top: 0;bottom: 0;left: 50%;z-index: 0;}#sk-container-id-3 div.sk-serial {display: flex;flex-direction: column;align-items: center;background-color: white;padding-right: 0.2em;padding-left: 0.2em;position: relative;}#sk-container-id-3 div.sk-item {position: relative;z-index: 1;}#sk-container-id-3 div.sk-parallel {display: flex;align-items: stretch;justify-content: center;background-color: white;position: relative;}#sk-container-id-3 div.sk-item::before, #sk-container-id-3 div.sk-parallel-item::before {content: \"\";position: absolute;border-left: 1px solid gray;box-sizing: border-box;top: 0;bottom: 0;left: 50%;z-index: -1;}#sk-container-id-3 div.sk-parallel-item {display: flex;flex-direction: column;z-index: 1;position: relative;background-color: white;}#sk-container-id-3 div.sk-parallel-item:first-child::after {align-self: flex-end;width: 50%;}#sk-container-id-3 div.sk-parallel-item:last-child::after {align-self: flex-start;width: 50%;}#sk-container-id-3 div.sk-parallel-item:only-child::after {width: 0;}#sk-container-id-3 div.sk-dashed-wrapped {border: 1px dashed gray;margin: 0 0.4em 0.5em 0.4em;box-sizing: border-box;padding-bottom: 0.4em;background-color: white;}#sk-container-id-3 div.sk-label label {font-family: monospace;font-weight: bold;display: inline-block;line-height: 1.2em;}#sk-container-id-3 div.sk-label-container {text-align: center;}#sk-container-id-3 div.sk-container {/* jupyter's `normalize.less` sets `[hidden] { display: none; }` but bootstrap.min.css set `[hidden] { display: none !important; }` so we also need the `!important` here to be able to override the default hidden behavior on the sphinx rendered scikit-learn.org. See: https://github.com/scikit-learn/scikit-learn/issues/21755 */display: inline-block !important;position: relative;}#sk-container-id-3 div.sk-text-repr-fallback {display: none;}</style><div id=\"sk-container-id-3\" class=\"sk-top-container\"><div class=\"sk-text-repr-fallback\"><pre>Pipeline(steps=[(&#x27;preprocessor&#x27;,\n",
       "                 ColumnTransformer(transformers=[(&#x27;num&#x27;, StandardScaler(),\n",
       "                                                  [&#x27;satisfaction_level&#x27;,\n",
       "                                                   &#x27;last_evaluation&#x27;,\n",
       "                                                   &#x27;number_project&#x27;,\n",
       "                                                   &#x27;average_montly_hours&#x27;,\n",
       "                                                   &#x27;time_spend_company&#x27;,\n",
       "                                                   &#x27;Work_accident&#x27;,\n",
       "                                                   &#x27;promotion_last_5years&#x27;]),\n",
       "                                                 (&#x27;cat&#x27;,\n",
       "                                                  OneHotEncoder(drop=&#x27;first&#x27;),\n",
       "                                                  [&#x27;Department&#x27;, &#x27;salary&#x27;])])),\n",
       "                (&#x27;model&#x27;, RandomForestRegressor(random_state=42))])</pre><b>In a Jupyter environment, please rerun this cell to show the HTML representation or trust the notebook. <br />On GitHub, the HTML representation is unable to render, please try loading this page with nbviewer.org.</b></div><div class=\"sk-container\" hidden><div class=\"sk-item sk-dashed-wrapped\"><div class=\"sk-label-container\"><div class=\"sk-label sk-toggleable\"><input class=\"sk-toggleable__control sk-hidden--visually\" id=\"sk-estimator-id-15\" type=\"checkbox\" ><label for=\"sk-estimator-id-15\" class=\"sk-toggleable__label sk-toggleable__label-arrow\">Pipeline</label><div class=\"sk-toggleable__content\"><pre>Pipeline(steps=[(&#x27;preprocessor&#x27;,\n",
       "                 ColumnTransformer(transformers=[(&#x27;num&#x27;, StandardScaler(),\n",
       "                                                  [&#x27;satisfaction_level&#x27;,\n",
       "                                                   &#x27;last_evaluation&#x27;,\n",
       "                                                   &#x27;number_project&#x27;,\n",
       "                                                   &#x27;average_montly_hours&#x27;,\n",
       "                                                   &#x27;time_spend_company&#x27;,\n",
       "                                                   &#x27;Work_accident&#x27;,\n",
       "                                                   &#x27;promotion_last_5years&#x27;]),\n",
       "                                                 (&#x27;cat&#x27;,\n",
       "                                                  OneHotEncoder(drop=&#x27;first&#x27;),\n",
       "                                                  [&#x27;Department&#x27;, &#x27;salary&#x27;])])),\n",
       "                (&#x27;model&#x27;, RandomForestRegressor(random_state=42))])</pre></div></div></div><div class=\"sk-serial\"><div class=\"sk-item sk-dashed-wrapped\"><div class=\"sk-label-container\"><div class=\"sk-label sk-toggleable\"><input class=\"sk-toggleable__control sk-hidden--visually\" id=\"sk-estimator-id-16\" type=\"checkbox\" ><label for=\"sk-estimator-id-16\" class=\"sk-toggleable__label sk-toggleable__label-arrow\">preprocessor: ColumnTransformer</label><div class=\"sk-toggleable__content\"><pre>ColumnTransformer(transformers=[(&#x27;num&#x27;, StandardScaler(),\n",
       "                                 [&#x27;satisfaction_level&#x27;, &#x27;last_evaluation&#x27;,\n",
       "                                  &#x27;number_project&#x27;, &#x27;average_montly_hours&#x27;,\n",
       "                                  &#x27;time_spend_company&#x27;, &#x27;Work_accident&#x27;,\n",
       "                                  &#x27;promotion_last_5years&#x27;]),\n",
       "                                (&#x27;cat&#x27;, OneHotEncoder(drop=&#x27;first&#x27;),\n",
       "                                 [&#x27;Department&#x27;, &#x27;salary&#x27;])])</pre></div></div></div><div class=\"sk-parallel\"><div class=\"sk-parallel-item\"><div class=\"sk-item\"><div class=\"sk-label-container\"><div class=\"sk-label sk-toggleable\"><input class=\"sk-toggleable__control sk-hidden--visually\" id=\"sk-estimator-id-17\" type=\"checkbox\" ><label for=\"sk-estimator-id-17\" class=\"sk-toggleable__label sk-toggleable__label-arrow\">num</label><div class=\"sk-toggleable__content\"><pre>[&#x27;satisfaction_level&#x27;, &#x27;last_evaluation&#x27;, &#x27;number_project&#x27;, &#x27;average_montly_hours&#x27;, &#x27;time_spend_company&#x27;, &#x27;Work_accident&#x27;, &#x27;promotion_last_5years&#x27;]</pre></div></div></div><div class=\"sk-serial\"><div class=\"sk-item\"><div class=\"sk-estimator sk-toggleable\"><input class=\"sk-toggleable__control sk-hidden--visually\" id=\"sk-estimator-id-18\" type=\"checkbox\" ><label for=\"sk-estimator-id-18\" class=\"sk-toggleable__label sk-toggleable__label-arrow\">StandardScaler</label><div class=\"sk-toggleable__content\"><pre>StandardScaler()</pre></div></div></div></div></div></div><div class=\"sk-parallel-item\"><div class=\"sk-item\"><div class=\"sk-label-container\"><div class=\"sk-label sk-toggleable\"><input class=\"sk-toggleable__control sk-hidden--visually\" id=\"sk-estimator-id-19\" type=\"checkbox\" ><label for=\"sk-estimator-id-19\" class=\"sk-toggleable__label sk-toggleable__label-arrow\">cat</label><div class=\"sk-toggleable__content\"><pre>[&#x27;Department&#x27;, &#x27;salary&#x27;]</pre></div></div></div><div class=\"sk-serial\"><div class=\"sk-item\"><div class=\"sk-estimator sk-toggleable\"><input class=\"sk-toggleable__control sk-hidden--visually\" id=\"sk-estimator-id-20\" type=\"checkbox\" ><label for=\"sk-estimator-id-20\" class=\"sk-toggleable__label sk-toggleable__label-arrow\">OneHotEncoder</label><div class=\"sk-toggleable__content\"><pre>OneHotEncoder(drop=&#x27;first&#x27;)</pre></div></div></div></div></div></div></div></div><div class=\"sk-item\"><div class=\"sk-estimator sk-toggleable\"><input class=\"sk-toggleable__control sk-hidden--visually\" id=\"sk-estimator-id-21\" type=\"checkbox\" ><label for=\"sk-estimator-id-21\" class=\"sk-toggleable__label sk-toggleable__label-arrow\">RandomForestRegressor</label><div class=\"sk-toggleable__content\"><pre>RandomForestRegressor(random_state=42)</pre></div></div></div></div></div></div></div>"
      ],
      "text/plain": [
       "Pipeline(steps=[('preprocessor',\n",
       "                 ColumnTransformer(transformers=[('num', StandardScaler(),\n",
       "                                                  ['satisfaction_level',\n",
       "                                                   'last_evaluation',\n",
       "                                                   'number_project',\n",
       "                                                   'average_montly_hours',\n",
       "                                                   'time_spend_company',\n",
       "                                                   'Work_accident',\n",
       "                                                   'promotion_last_5years']),\n",
       "                                                 ('cat',\n",
       "                                                  OneHotEncoder(drop='first'),\n",
       "                                                  ['Department', 'salary'])])),\n",
       "                ('model', RandomForestRegressor(random_state=42))])"
      ]
     },
     "execution_count": 24,
     "metadata": {},
     "output_type": "execute_result"
    }
   ],
   "source": [
    "# Fit the pipeline on the training dataset\n",
    "pipeline.fit(X_train, y_train)"
   ]
  },
  {
   "cell_type": "markdown",
   "metadata": {},
   "source": [
    "## 10. Evaluating the model ##"
   ]
  },
  {
   "cell_type": "code",
   "execution_count": 11,
   "metadata": {},
   "outputs": [
    {
     "name": "stdout",
     "output_type": "stream",
     "text": [
      "RMSE scores: [0.11258959 0.1093614  0.12024524 0.10611688 0.10239911]\n",
      "R2 scores: [0.92931339 0.93347286 0.92262722 0.93804188 0.94204519]\n"
     ]
    }
   ],
   "source": [
    "# Evaluating the model's performance using cross-validation\n",
    "cv_scores = cross_val_score(pipeline, X_train, y_train, cv=5, scoring='neg_mean_squared_error')\n",
    "rmse = np.sqrt(-cv_scores)\n",
    "r2_scores = cross_val_score(pipeline, X_train, y_train, cv=5, scoring='r2')\n",
    "\n",
    "print(\"RMSE scores:\", rmse)\n",
    "print(\"R2 scores:\", r2_scores)\n"
   ]
  },
  {
   "cell_type": "markdown",
   "metadata": {},
   "source": [
    "RMSE (Root Mean Squared Error):\n",
    "The RMSE values range from approximately 0.102 to 0.120 across the different folds of cross-validation.\n",
    "RMSE measures the average magnitude of the error between the predicted values from the model and the actual values in the dataset.\n",
    "Since the RMSE values are low (close to 0), this indicates that the model's predictions are generally close to the actual values. The consistency of the RMSE scores across the folds suggests that the model is stable and generalizes well across different subsets of the dataset.\n",
    "\n",
    "R^2 (Coefficient of Determination):\n",
    "The R^2 scores vary from about 0.922 to 0.942.\n",
    "R^2 is a statistical measure that represents the proportion of the variance for the dependent variable that's explained by the independent variables in the model.\n",
    "The closer the R^2 value is to 1, the better the model explains the variance of the target variable.\n",
    "R^2 values are quite high, suggesting that the RandomForestRegressor does an excellent job of capturing the variance in the target variable. The model appears to be highly predictive.\n",
    "Conclusion\n",
    "The RandomForestRegressor model shows high predictive power with the given dataset, as evidenced by high R^2 values across all cross-validation folds.\n",
    "The low RMSE values across the folds also indicate good model accuracy with small errors in predictions.\n",
    "The consistency of the scores across different folds suggests that the model is stable and not sensitive to the particular splits of the data, which is a good indication of its robustness and generalizability."
   ]
  },
  {
   "cell_type": "code",
   "execution_count": 12,
   "metadata": {},
   "outputs": [
    {
     "name": "stdout",
     "output_type": "stream",
     "text": [
      "R2 score on the training set: 0.99167\n",
      "R2 score on the test set: 0.92288\n"
     ]
    }
   ],
   "source": [
    "train_score = pipeline.score(X_train, y_train)\n",
    "print('R2 score on the training set:', np.round(train_score, 5))\n",
    "\n",
    "test_score = pipeline.score(X_test, y_test)\n",
    "print('R2 score on the test set:', np.round(test_score, 5))"
   ]
  },
  {
   "cell_type": "markdown",
   "metadata": {},
   "source": [
    "Training Set (R2 score: 0.99167)\n",
    "\n",
    "Explanation: An R2 score of 0.99167 on the training set indicates that the model explains approximately 99.17% of the variance in the target variable (whether an employee left the company) using the features in the training data.\n",
    "This high R2 score suggests that the model fits the training data extremely well. It captures nearly all the variability in the data, which is generally a positive sign of the model's performance on the training data.\n",
    "\n",
    "Test Set (R2 score: 0.92288)\n",
    "\n",
    "Explanation: An R2 score of 0.92288 on the test set indicates that the model explains approximately 92.29% of the variance in the target variable using the features in the test data.\n",
    "This high R2 score on the test set demonstrates that the model also generalizes well to unseen data. It suggests that the model retains strong predictive power and reliability when applied to new, out-of-sample data.\n",
    "\n",
    "Overall Interpretation:\n",
    "The model has a very high R2 score on both the training and test sets, indicating excellent performance. It effectively captures the relationship between the HR metrics and the likelihood of an employee leaving the company.\n",
    "\n"
   ]
  },
  {
   "cell_type": "code",
   "execution_count": 26,
   "metadata": {},
   "outputs": [],
   "source": [
    "\n",
    "y_pred = pipeline.predict(X_test)\n"
   ]
  },
  {
   "cell_type": "code",
   "execution_count": 13,
   "metadata": {},
   "outputs": [
    {
     "name": "stdout",
     "output_type": "stream",
     "text": [
      "0.0\n"
     ]
    }
   ],
   "source": [
    "\n",
    "y_pred = pipeline.predict(X_test.iloc[[5]])\n",
    "print(y_pred[0])\n"
   ]
  },
  {
   "cell_type": "code",
   "execution_count": 14,
   "metadata": {},
   "outputs": [
    {
     "name": "stdout",
     "output_type": "stream",
     "text": [
      "0\n"
     ]
    }
   ],
   "source": [
    "print(y_test.iloc[5])"
   ]
  },
  {
   "cell_type": "markdown",
   "metadata": {},
   "source": [
    "## Building pipeline using Logistic regression ##"
   ]
  },
  {
   "cell_type": "code",
   "execution_count": 15,
   "metadata": {},
   "outputs": [
    {
     "data": {
      "text/html": [
       "<style>#sk-container-id-2 {color: black;}#sk-container-id-2 pre{padding: 0;}#sk-container-id-2 div.sk-toggleable {background-color: white;}#sk-container-id-2 label.sk-toggleable__label {cursor: pointer;display: block;width: 100%;margin-bottom: 0;padding: 0.3em;box-sizing: border-box;text-align: center;}#sk-container-id-2 label.sk-toggleable__label-arrow:before {content: \"▸\";float: left;margin-right: 0.25em;color: #696969;}#sk-container-id-2 label.sk-toggleable__label-arrow:hover:before {color: black;}#sk-container-id-2 div.sk-estimator:hover label.sk-toggleable__label-arrow:before {color: black;}#sk-container-id-2 div.sk-toggleable__content {max-height: 0;max-width: 0;overflow: hidden;text-align: left;background-color: #f0f8ff;}#sk-container-id-2 div.sk-toggleable__content pre {margin: 0.2em;color: black;border-radius: 0.25em;background-color: #f0f8ff;}#sk-container-id-2 input.sk-toggleable__control:checked~div.sk-toggleable__content {max-height: 200px;max-width: 100%;overflow: auto;}#sk-container-id-2 input.sk-toggleable__control:checked~label.sk-toggleable__label-arrow:before {content: \"▾\";}#sk-container-id-2 div.sk-estimator input.sk-toggleable__control:checked~label.sk-toggleable__label {background-color: #d4ebff;}#sk-container-id-2 div.sk-label input.sk-toggleable__control:checked~label.sk-toggleable__label {background-color: #d4ebff;}#sk-container-id-2 input.sk-hidden--visually {border: 0;clip: rect(1px 1px 1px 1px);clip: rect(1px, 1px, 1px, 1px);height: 1px;margin: -1px;overflow: hidden;padding: 0;position: absolute;width: 1px;}#sk-container-id-2 div.sk-estimator {font-family: monospace;background-color: #f0f8ff;border: 1px dotted black;border-radius: 0.25em;box-sizing: border-box;margin-bottom: 0.5em;}#sk-container-id-2 div.sk-estimator:hover {background-color: #d4ebff;}#sk-container-id-2 div.sk-parallel-item::after {content: \"\";width: 100%;border-bottom: 1px solid gray;flex-grow: 1;}#sk-container-id-2 div.sk-label:hover label.sk-toggleable__label {background-color: #d4ebff;}#sk-container-id-2 div.sk-serial::before {content: \"\";position: absolute;border-left: 1px solid gray;box-sizing: border-box;top: 0;bottom: 0;left: 50%;z-index: 0;}#sk-container-id-2 div.sk-serial {display: flex;flex-direction: column;align-items: center;background-color: white;padding-right: 0.2em;padding-left: 0.2em;position: relative;}#sk-container-id-2 div.sk-item {position: relative;z-index: 1;}#sk-container-id-2 div.sk-parallel {display: flex;align-items: stretch;justify-content: center;background-color: white;position: relative;}#sk-container-id-2 div.sk-item::before, #sk-container-id-2 div.sk-parallel-item::before {content: \"\";position: absolute;border-left: 1px solid gray;box-sizing: border-box;top: 0;bottom: 0;left: 50%;z-index: -1;}#sk-container-id-2 div.sk-parallel-item {display: flex;flex-direction: column;z-index: 1;position: relative;background-color: white;}#sk-container-id-2 div.sk-parallel-item:first-child::after {align-self: flex-end;width: 50%;}#sk-container-id-2 div.sk-parallel-item:last-child::after {align-self: flex-start;width: 50%;}#sk-container-id-2 div.sk-parallel-item:only-child::after {width: 0;}#sk-container-id-2 div.sk-dashed-wrapped {border: 1px dashed gray;margin: 0 0.4em 0.5em 0.4em;box-sizing: border-box;padding-bottom: 0.4em;background-color: white;}#sk-container-id-2 div.sk-label label {font-family: monospace;font-weight: bold;display: inline-block;line-height: 1.2em;}#sk-container-id-2 div.sk-label-container {text-align: center;}#sk-container-id-2 div.sk-container {/* jupyter's `normalize.less` sets `[hidden] { display: none; }` but bootstrap.min.css set `[hidden] { display: none !important; }` so we also need the `!important` here to be able to override the default hidden behavior on the sphinx rendered scikit-learn.org. See: https://github.com/scikit-learn/scikit-learn/issues/21755 */display: inline-block !important;position: relative;}#sk-container-id-2 div.sk-text-repr-fallback {display: none;}</style><div id=\"sk-container-id-2\" class=\"sk-top-container\"><div class=\"sk-text-repr-fallback\"><pre>Pipeline(steps=[(&#x27;preprocessor&#x27;,\n",
       "                 ColumnTransformer(transformers=[(&#x27;num&#x27;, StandardScaler(),\n",
       "                                                  [&#x27;satisfaction_level&#x27;,\n",
       "                                                   &#x27;last_evaluation&#x27;,\n",
       "                                                   &#x27;number_project&#x27;,\n",
       "                                                   &#x27;average_montly_hours&#x27;,\n",
       "                                                   &#x27;time_spend_company&#x27;,\n",
       "                                                   &#x27;Work_accident&#x27;,\n",
       "                                                   &#x27;promotion_last_5years&#x27;]),\n",
       "                                                 (&#x27;cat&#x27;,\n",
       "                                                  OneHotEncoder(drop=&#x27;first&#x27;),\n",
       "                                                  [&#x27;Department&#x27;, &#x27;salary&#x27;])])),\n",
       "                (&#x27;model&#x27;, LogisticRegression(max_iter=1000, random_state=42))])</pre><b>In a Jupyter environment, please rerun this cell to show the HTML representation or trust the notebook. <br />On GitHub, the HTML representation is unable to render, please try loading this page with nbviewer.org.</b></div><div class=\"sk-container\" hidden><div class=\"sk-item sk-dashed-wrapped\"><div class=\"sk-label-container\"><div class=\"sk-label sk-toggleable\"><input class=\"sk-toggleable__control sk-hidden--visually\" id=\"sk-estimator-id-8\" type=\"checkbox\" ><label for=\"sk-estimator-id-8\" class=\"sk-toggleable__label sk-toggleable__label-arrow\">Pipeline</label><div class=\"sk-toggleable__content\"><pre>Pipeline(steps=[(&#x27;preprocessor&#x27;,\n",
       "                 ColumnTransformer(transformers=[(&#x27;num&#x27;, StandardScaler(),\n",
       "                                                  [&#x27;satisfaction_level&#x27;,\n",
       "                                                   &#x27;last_evaluation&#x27;,\n",
       "                                                   &#x27;number_project&#x27;,\n",
       "                                                   &#x27;average_montly_hours&#x27;,\n",
       "                                                   &#x27;time_spend_company&#x27;,\n",
       "                                                   &#x27;Work_accident&#x27;,\n",
       "                                                   &#x27;promotion_last_5years&#x27;]),\n",
       "                                                 (&#x27;cat&#x27;,\n",
       "                                                  OneHotEncoder(drop=&#x27;first&#x27;),\n",
       "                                                  [&#x27;Department&#x27;, &#x27;salary&#x27;])])),\n",
       "                (&#x27;model&#x27;, LogisticRegression(max_iter=1000, random_state=42))])</pre></div></div></div><div class=\"sk-serial\"><div class=\"sk-item sk-dashed-wrapped\"><div class=\"sk-label-container\"><div class=\"sk-label sk-toggleable\"><input class=\"sk-toggleable__control sk-hidden--visually\" id=\"sk-estimator-id-9\" type=\"checkbox\" ><label for=\"sk-estimator-id-9\" class=\"sk-toggleable__label sk-toggleable__label-arrow\">preprocessor: ColumnTransformer</label><div class=\"sk-toggleable__content\"><pre>ColumnTransformer(transformers=[(&#x27;num&#x27;, StandardScaler(),\n",
       "                                 [&#x27;satisfaction_level&#x27;, &#x27;last_evaluation&#x27;,\n",
       "                                  &#x27;number_project&#x27;, &#x27;average_montly_hours&#x27;,\n",
       "                                  &#x27;time_spend_company&#x27;, &#x27;Work_accident&#x27;,\n",
       "                                  &#x27;promotion_last_5years&#x27;]),\n",
       "                                (&#x27;cat&#x27;, OneHotEncoder(drop=&#x27;first&#x27;),\n",
       "                                 [&#x27;Department&#x27;, &#x27;salary&#x27;])])</pre></div></div></div><div class=\"sk-parallel\"><div class=\"sk-parallel-item\"><div class=\"sk-item\"><div class=\"sk-label-container\"><div class=\"sk-label sk-toggleable\"><input class=\"sk-toggleable__control sk-hidden--visually\" id=\"sk-estimator-id-10\" type=\"checkbox\" ><label for=\"sk-estimator-id-10\" class=\"sk-toggleable__label sk-toggleable__label-arrow\">num</label><div class=\"sk-toggleable__content\"><pre>[&#x27;satisfaction_level&#x27;, &#x27;last_evaluation&#x27;, &#x27;number_project&#x27;, &#x27;average_montly_hours&#x27;, &#x27;time_spend_company&#x27;, &#x27;Work_accident&#x27;, &#x27;promotion_last_5years&#x27;]</pre></div></div></div><div class=\"sk-serial\"><div class=\"sk-item\"><div class=\"sk-estimator sk-toggleable\"><input class=\"sk-toggleable__control sk-hidden--visually\" id=\"sk-estimator-id-11\" type=\"checkbox\" ><label for=\"sk-estimator-id-11\" class=\"sk-toggleable__label sk-toggleable__label-arrow\">StandardScaler</label><div class=\"sk-toggleable__content\"><pre>StandardScaler()</pre></div></div></div></div></div></div><div class=\"sk-parallel-item\"><div class=\"sk-item\"><div class=\"sk-label-container\"><div class=\"sk-label sk-toggleable\"><input class=\"sk-toggleable__control sk-hidden--visually\" id=\"sk-estimator-id-12\" type=\"checkbox\" ><label for=\"sk-estimator-id-12\" class=\"sk-toggleable__label sk-toggleable__label-arrow\">cat</label><div class=\"sk-toggleable__content\"><pre>[&#x27;Department&#x27;, &#x27;salary&#x27;]</pre></div></div></div><div class=\"sk-serial\"><div class=\"sk-item\"><div class=\"sk-estimator sk-toggleable\"><input class=\"sk-toggleable__control sk-hidden--visually\" id=\"sk-estimator-id-13\" type=\"checkbox\" ><label for=\"sk-estimator-id-13\" class=\"sk-toggleable__label sk-toggleable__label-arrow\">OneHotEncoder</label><div class=\"sk-toggleable__content\"><pre>OneHotEncoder(drop=&#x27;first&#x27;)</pre></div></div></div></div></div></div></div></div><div class=\"sk-item\"><div class=\"sk-estimator sk-toggleable\"><input class=\"sk-toggleable__control sk-hidden--visually\" id=\"sk-estimator-id-14\" type=\"checkbox\" ><label for=\"sk-estimator-id-14\" class=\"sk-toggleable__label sk-toggleable__label-arrow\">LogisticRegression</label><div class=\"sk-toggleable__content\"><pre>LogisticRegression(max_iter=1000, random_state=42)</pre></div></div></div></div></div></div></div>"
      ],
      "text/plain": [
       "Pipeline(steps=[('preprocessor',\n",
       "                 ColumnTransformer(transformers=[('num', StandardScaler(),\n",
       "                                                  ['satisfaction_level',\n",
       "                                                   'last_evaluation',\n",
       "                                                   'number_project',\n",
       "                                                   'average_montly_hours',\n",
       "                                                   'time_spend_company',\n",
       "                                                   'Work_accident',\n",
       "                                                   'promotion_last_5years']),\n",
       "                                                 ('cat',\n",
       "                                                  OneHotEncoder(drop='first'),\n",
       "                                                  ['Department', 'salary'])])),\n",
       "                ('model', LogisticRegression(max_iter=1000, random_state=42))])"
      ]
     },
     "execution_count": 15,
     "metadata": {},
     "output_type": "execute_result"
    }
   ],
   "source": [
    "from sklearn.linear_model import LogisticRegression\n",
    "from sklearn.metrics import accuracy_score, precision_score, recall_score, f1_score, roc_auc_score\n",
    "\n",
    "# Replacing the RandomForestRegressor with LogisticRegression in the pipeline\n",
    "logistic_model = LogisticRegression(random_state=42, max_iter=1000)\n",
    "logistic_pipeline = Pipeline(steps=[('preprocessor', preprocessor),\n",
    "                                    ('model', logistic_model)])\n",
    "\n",
    "# Fit the logistic regression pipeline on the training dataset\n",
    "logistic_pipeline.fit(X_train, y_train)\n",
    "\n"
   ]
  },
  {
   "cell_type": "markdown",
   "metadata": {},
   "source": [
    "### Evaluating the model #"
   ]
  },
  {
   "cell_type": "code",
   "execution_count": 17,
   "metadata": {},
   "outputs": [
    {
     "name": "stdout",
     "output_type": "stream",
     "text": [
      "R2 score on the training set: 0.7909\n",
      "R2 score on the test set: 0.784\n"
     ]
    }
   ],
   "source": [
    "train_score =logistic_pipeline.score(X_train, y_train)\n",
    "print('R2 score on the training set:', np.round(train_score, 5))\n",
    "\n",
    "test_score = logistic_pipeline.score(X_test, y_test)\n",
    "print('R2 score on the test set:', np.round(test_score, 5))"
   ]
  },
  {
   "cell_type": "code",
   "execution_count": 18,
   "metadata": {},
   "outputs": [
    {
     "data": {
      "text/plain": [
       "(0.784, 0.5700483091787439, 0.3342776203966006, 0.42142857142857143)"
      ]
     },
     "execution_count": 18,
     "metadata": {},
     "output_type": "execute_result"
    }
   ],
   "source": [
    "# Predicting on the test set\n",
    "y_pred = logistic_pipeline.predict(X_test)\n",
    "\n",
    "# Calculating classification metrics\n",
    "accuracy = accuracy_score(y_test, y_pred)\n",
    "precision = precision_score(y_test, y_pred)\n",
    "recall = recall_score(y_test, y_pred)\n",
    "f1 = f1_score(y_test, y_pred)\n",
    "\n",
    "\n",
    "accuracy, precision, recall, f1"
   ]
  },
  {
   "cell_type": "markdown",
   "metadata": {},
   "source": [
    "Accuracy (0.784): This is the proportion of the total number of predictions that were correct. It combines both true positives and true negatives in the dataset. An accuracy of 0.784 means that approximately 78.4% of the model's predictions are correct. While accuracy is a useful measure, it may not give the best picture if the class distributions are imbalanced.\n",
    "Precision (0.570): Precision measures the proportion of positive identifications that were actually correct. A precision of 0.570 means that when the model predicts an employee will leave, it is correct about 57.0% of the time. This is particularly important if the cost of a false positive is high.\n",
    "Recall (0.334): Also known as sensitivity or the true positive rate, recall measures the proportion of actual positives that were identified correctly. A recall of 0.334 means that the model correctly identifies 33.4% of employees who actually left. This indicates that the model is quite conservative in predicting the positive class (employees leaving).\n",
    "F1 Score (0.421): The F1 score is the harmonic mean of precision and recall, and it is a measure of a test's accuracy. An F1 score of 0.421 suggests that the model has a moderate balance between precision and recall. This is a useful metric when you need to balance precision and recall, which might be the case in scenarios where both false positives and false negatives are costly.\n",
    "\n",
    "Interpretation:\n",
    "Overall, the model performs reasonably well in terms of accuracy, suggesting that it can be a useful tool for predicting employee attrition. However, the relatively low recall indicates that many employees who actually left were not flagged by the model (i.e., a high number of false negatives). The precision indicates that when the model predicts an employee will leave, this prediction is correct more often than not, but there is still a notable proportion of false positives.\n",
    "\n",
    "The moderate F1 score suggests that the model is not particularly strong in situations where you need to balance the importance of precision and recall, which can be common in business settings."
   ]
  },
  {
   "cell_type": "code",
   "execution_count": 19,
   "metadata": {},
   "outputs": [
    {
     "data": {
      "image/png": "[encoded data removed]",
      "text/plain": [
       "<Figure size 800x600 with 1 Axes>"
      ]
     },
     "metadata": {},
     "output_type": "display_data"
    },
    {
     "data": {
      "text/plain": [
       "0.8148903038101614"
      ]
     },
     "execution_count": 19,
     "metadata": {},
     "output_type": "execute_result"
    }
   ],
   "source": [
    "from sklearn.metrics import roc_curve, auc\n",
    "import matplotlib.pyplot as plt\n",
    "\n",
    "# Calculate the predicted probabilities\n",
    "y_pred_prob = logistic_pipeline.predict_proba(X_test)[:, 1]\n",
    "\n",
    "# Calculate TPR and FPR for various thresholds\n",
    "fpr, tpr, thresholds = roc_curve(y_test, y_pred_prob)\n",
    "\n",
    "# Calculate the AUC\n",
    "roc_auc = auc(fpr, tpr)\n",
    "\n",
    "# Plotting the ROC curve\n",
    "plt.figure(figsize=(8, 6))\n",
    "plt.plot(fpr, tpr, color='blue', lw=2, label='ROC curve (area = %0.2f)' % roc_auc)\n",
    "plt.plot([0, 1], [0, 1], color='red', lw=2, linestyle='--')\n",
    "plt.xlim([0.0, 1.0])\n",
    "plt.ylim([0.0, 1.05])\n",
    "plt.xlabel('False Positive Rate')\n",
    "plt.ylabel('True Positive Rate')\n",
    "plt.title('Receiver Operating Characteristic')\n",
    "plt.legend(loc=\"lower right\")\n",
    "plt.show()\n",
    "\n",
    "roc_auc"
   ]
  },
  {
   "cell_type": "markdown",
   "metadata": {},
   "source": [
    "The Receiver Operating Characteristic (ROC) curve, which is a graphical plot used to show the diagnostic ability of a binary classifier system as its discrimination threshold is varied.\n",
    "\n",
    "Interpretation of the ROC curve:\n",
    "\n",
    "The blue line represents the ROC curve of the classifier. It shows the trade-off between the True Positive Rate (TPR) on the y-axis and the False Positive Rate (FPR) on the x-axis at various threshold settings.\n",
    "The True Positive Rate is also known as sensitivity, recall, or probability of detection in machine learning. It is calculated as TPR = TP / (TP + FN), where TP is the number of true positives and FN is the number of false negatives.\n",
    "The False Positive Rate is calculated as FPR = FP / (FP + TN), where FP is the number of false positives and TN is the number of true negatives.\n",
    "The red dashed line represents a completely random classifier (an 'uninformative' classifier), for which the true positive rate equals the false positive rate, no matter what the threshold is.\n",
    "The area under the ROC curve (AUC) is a measure of the model's ability to distinguish between the two classes. In this case, the AUC is labeled as 0.81, which indicates that the model has a good level of distinguishability.\n",
    "Ideally, the ROC curve will climb quickly toward the top-left corner of the plot, which indicates a high true positive rate and a low false positive rate.\n",
    "The closer the ROC curve is to the top-left corner, the better the model's performance. If the ROC curve was closer to the red dashed line, it would indicate a less effective model.\n",
    "In summary, the model with an AUC of 0.81 appears to perform much better than random chance (which would be the red dashed line with AUC = 0.5), indicating it has a good predictive ability."
   ]
  },
  {
   "cell_type": "code",
   "execution_count": 20,
   "metadata": {},
   "outputs": [
    {
     "name": "stdout",
     "output_type": "stream",
     "text": [
      "R2 score on the training set: 0.7909\n",
      "R2 score on the test set: 0.784\n"
     ]
    }
   ],
   "source": [
    "train_score = logistic_pipeline.score(X_train, y_train)\n",
    "print('R2 score on the training set:', np.round(train_score, 5))\n",
    "\n",
    "test_score = logistic_pipeline.score(X_test, y_test)\n",
    "print('R2 score on the test set:', np.round(test_score, 5))"
   ]
  },
  {
   "cell_type": "markdown",
   "metadata": {},
   "source": [
    "R^2 Score (Training: 0.7909, Test: 0.784):\n",
    "The R^2 score, or coefficient of determination, explains how much variance in the dependent variable can be explained by the model. In classification contexts, this metric isn't typically as informative or relevant as it is for regression tasks.\n",
    "An R^2 of 0.7909 for the training set and 0.784 for the test set suggests that the model is consistent across both datasets, which is a good sign of generalization. However, considering this is a classification problem, the R^2 score might not be the most appropriate metric to rely on."
   ]
  },
  {
   "cell_type": "code",
   "execution_count": 21,
   "metadata": {},
   "outputs": [
    {
     "name": "stdout",
     "output_type": "stream",
     "text": [
      "RMSE on the training set: 0.45728\n",
      "RMSE on the test set: 0.46476\n"
     ]
    }
   ],
   "source": [
    "from sklearn.metrics import mean_squared_error\n",
    "\n",
    "# Predicting on the training and test sets\n",
    "y_train_pred = logistic_pipeline.predict(X_train)\n",
    "y_test_pred = logistic_pipeline.predict(X_test)\n",
    "\n",
    "# Calculating RMSE for the training set\n",
    "rmse_train = np.sqrt(mean_squared_error(y_train, y_train_pred))\n",
    "print('RMSE on the training set:', np.round(rmse_train, 5))\n",
    "\n",
    "# Calculating RMSE for the test set\n",
    "rmse_test = np.sqrt(mean_squared_error(y_test, y_test_pred))\n",
    "print('RMSE on the test set:', np.round(rmse_test, 5))\n"
   ]
  },
  {
   "cell_type": "markdown",
   "metadata": {},
   "source": [
    "RMSE (Training: 0.45728, Test: 0.46476):\n",
    "RMSE is the square root of the average of the squares of the errors. It's a measure of the average magnitude of the errors, giving you an idea of how much error there is in the model's predictions.\n",
    "The RMSE values for both the training (0.45728) and test sets (0.46476) are fairly close, which suggests that the model is not overfitting. The model performs similarly on both unseen and seen data.\n",
    "The values of RMSE should be considered relative to the scale of the dependent variable, 'left'. Since 'left' is a binary variable (0 or 1), an RMSE of around 0.46 can be considered moderate. It suggests that the model's predictions are, on average, about 0.46 away from the actual values when interpreted in the probabilistic sense (since logistic regression outputs probabilities).\n"
   ]
  },
  {
   "cell_type": "code",
   "execution_count": 22,
   "metadata": {},
   "outputs": [
    {
     "name": "stdout",
     "output_type": "stream",
     "text": [
      "[0 0 0 0 0]\n"
     ]
    }
   ],
   "source": [
    "# Predicting on the test set\n",
    "y_pred_first_five = logistic_pipeline.predict(X_test.iloc[0:5])\n",
    "print(y_pred_first_five[0:5])"
   ]
  },
  {
   "cell_type": "code",
   "execution_count": 23,
   "metadata": {},
   "outputs": [
    {
     "name": "stdout",
     "output_type": "stream",
     "text": [
      "6723    0\n",
      "6473    0\n",
      "4679    0\n",
      "862     1\n",
      "7286    0\n",
      "Name: left, dtype: int64\n"
     ]
    }
   ],
   "source": [
    "print(y_test[0:5])"
   ]
  },
  {
   "cell_type": "markdown",
   "metadata": {},
   "source": [
    "Analysis of findings:\n",
    "Model Performance:\n",
    "\n",
    "The RandomForestRegressor model shows excellent predictive power with high R2 scores and low RMSE.\n",
    "The LogisticRegression model offers good classification metrics and a strong ROC AUC.\n",
    "\n",
    "Insights:\n",
    "\n",
    "High satisfaction level and last evaluation scores are likely critical indicators for predicting employee turnover.\n",
    "Number of projects, average monthly hours, and time spent at the company also play significant roles.\n",
    "\n",
    "Further improvements:\n",
    "\n",
    "Further tuning and comparison of models could improve predictive performance.\n",
    "Incorporating additional features or external data sources might provide deeper insights.\n",
    "Overall, the analysis shows that both regression and classification approaches can be effectively used to predict employee turnover, each offering unique advantages in terms of model interpretability and performance."
   ]
  },
  {
   "cell_type": "markdown",
   "metadata": {},
   "source": [
    "Recording Link: https://vimeo.com/976641518/450d23b6ba?share=copy"
   ]
  },
  {
   "cell_type": "markdown",
   "metadata": {},
   "source": [
    "References:\n",
    "\n",
    "Kaggle. (2018). HR Analytics [Data set]. https://www.kaggle.com/datasets/giripujar/hr-analytics\n",
    "\n"
   ]
  }
 ],
 "metadata": {
  "kernelspec": {
   "display_name": "Python 3",
   "language": "python",
   "name": "python3"
  },
  "language_info": {
   "codemirror_mode": {
    "name": "ipython",
    "version": 3
   },
   "file_extension": ".py",
   "mimetype": "text/x-python",
   "name": "python",
   "nbconvert_exporter": "python",
   "pygments_lexer": "ipython3",
   "version": "3.11.5"
  }
 },
 "nbformat": 4,
 "nbformat_minor": 2
}
